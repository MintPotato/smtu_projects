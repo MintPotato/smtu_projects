{
 "cells": [
  {
   "cell_type": "code",
   "execution_count": 1,
   "metadata": {},
   "outputs": [],
   "source": [
    "import numpy as np\n",
    "from numpy import round as r\n",
    "import numpy.linalg as linalg"
   ]
  },
  {
   "cell_type": "code",
   "execution_count": 2,
   "metadata": {},
   "outputs": [],
   "source": [
    "# np.set_printoptions(formatter={'float_kind': lambda x: str(np.round(x, 4))})\n",
    "np.set_printoptions(formatter={'float_kind': \"{:.4f}\".format})"
   ]
  },
  {
   "cell_type": "code",
   "execution_count": 3,
   "metadata": {},
   "outputs": [
    {
     "data": {
      "text/plain": [
       "(array([[ 9, -5, -6,  3],\n",
       "        [ 1, -7,  1,  0],\n",
       "        [ 3, -4,  9,  0],\n",
       "        [ 6, -1,  9,  8]]),\n",
       " array([[-8],\n",
       "        [38],\n",
       "        [47],\n",
       "        [-8]]))"
      ]
     },
     "execution_count": 3,
     "metadata": {},
     "output_type": "execute_result"
    }
   ],
   "source": [
    "A = np.array([[9, -5, -6, 3], [1, -7, 1, 0], [3, -4, 9, 0], [6, -1, 9, 8]])\n",
    "B = np.array([[-8], [38], [47], [-8]])\n",
    "A, B"
   ]
  },
  {
   "cell_type": "code",
   "execution_count": 4,
   "metadata": {},
   "outputs": [
    {
     "name": "stdout",
     "output_type": "stream",
     "text": [
      "det(A) = -4239.0\n",
      "-----------\n",
      "A^(-1) = \n",
      "[[0.1113 -0.1493 0.1326 -0.0418]\n",
      " [0.0113 -0.1677 0.0304 -0.0042]\n",
      " [-0.0321 -0.0248 0.0804 0.0120]\n",
      " [-0.0460 0.1189 -0.1861 0.1423]]\n"
     ]
    }
   ],
   "source": [
    "#det + inv\n",
    "det = r(linalg.det(A), 4)\n",
    "inv = linalg.inv(A)\n",
    "\n",
    "print('det(A) = {}\\n-----------\\nA^(-1) = \\n{}'.format(det, inv))"
   ]
  },
  {
   "cell_type": "code",
   "execution_count": null,
   "metadata": {},
   "outputs": [
    {
     "name": "stdout",
     "output_type": "stream",
     "text": [
      "euc = 22.1359\n",
      "col = 25.0\n",
      "row = 24.0\n",
      "max = 36\n"
     ]
    }
   ],
   "source": [
    "#norms\n",
    "norm_euc = r(np.linalg.norm(A, 'fro'), 4)\n",
    "norm_col = np.linalg.norm(A, 1)\n",
    "norm_row = np.linalg.norm(A, np.inf)\n",
    "norm_max = 4 * max(list(map(max,  [np.abs(row) for row in A])))\n",
    "\n",
    "print('euc = {}\\ncol = {}\\nrow = {}\\nmax = {}'.format(norm_euc, norm_col, norm_row, norm_max))"
   ]
  },
  {
   "cell_type": "code",
   "execution_count": 6,
   "metadata": {},
   "outputs": [
    {
     "name": "stdout",
     "output_type": "stream",
     "text": [
      "cond = 11.518\n"
     ]
    }
   ],
   "source": [
    "#cond\n",
    "cond = r(linalg.norm(A, 1) * linalg.norm(linalg.inv(A), 1), 4)\n",
    "print('cond = {}'.format(cond))"
   ]
  },
  {
   "cell_type": "code",
   "execution_count": null,
   "metadata": {},
   "outputs": [
    {
     "name": "stdout",
     "output_type": "stream",
     "text": [
      "Modified matrix:\n",
      "[[9.0000 -5.0000 -6.0000 3.0000 -8.0000]\n",
      " [0.0000 -6.4444 1.6667 -0.3333 38.8889]\n",
      " [0.0000 0.0000 10.3966 -0.8793 35.5862]\n",
      " [0.0000 0.0000 0.0000 7.0299 -35.1493]]\n",
      "X-vector:\n",
      "[0.0000 -5.0000 3.0000 -5.0000]\n"
     ]
    }
   ],
   "source": [
    "#gaus\n",
    "AB = np.hstack([A.astype(float), B.astype(float)])\n",
    "for (row_n, row) in enumerate(AB):\n",
    "    divider = row[row_n]\n",
    "    for lower_row in AB[row_n+1:]:\n",
    "        factor = lower_row[row_n]/divider\n",
    "        lower_row -= factor*row\n",
    "print('Modified matrix:\\n{}'.format(AB))\n",
    "x = np.array([r(AB[-1, -1] / AB[-1, -2])])\n",
    "for row_n in range(len(A)-2, -1, -1):\n",
    "    # print(AB[row_n, row_n+1:-1])\n",
    "    new_x = (AB[row_n, -1] - np.dot(AB[row_n, row_n+1:-1], x))/AB[row_n, row_n]\n",
    "    x = np.concat([[new_x], x])\n",
    "print('X-vector:\\n{}'.format(x))"
   ]
  },
  {
   "cell_type": "code",
   "execution_count": null,
   "metadata": {},
   "outputs": [
    {
     "name": "stdout",
     "output_type": "stream",
     "text": [
      "Eigenvalues: \n",
      "[-6.3888+0.j     12.4965+0.j      6.4461+3.3974j  6.4461-3.3974j]\n"
     ]
    }
   ],
   "source": [
    "#eig vals\n",
    "print('Eigenvalues: \\n{}'.format(r(linalg.eigvals(A), 4)))"
   ]
  },
  {
   "cell_type": "code",
   "execution_count": 9,
   "metadata": {},
   "outputs": [
    {
     "name": "stdout",
     "output_type": "stream",
     "text": [
      "Diagonal domination (row): False\n",
      "Diagonal domination (col): False\n",
      "Is symmetrical: False\n",
      "Spectral radius: 0.2009\n"
     ]
    }
   ],
   "source": [
    "#jacobi + seidel\n",
    "diag_dom = list()\n",
    "for i in range(len(A)):\n",
    "    row = A[i]\n",
    "    el = np.abs(row[i])\n",
    "    row = sum(np.abs(np.delete(row, i)))\n",
    "    diag_dom.append(bool(el > row))\n",
    "    \n",
    "diag_dom1 = list()\n",
    "for i in range(len(A)):\n",
    "    col = A[:,  i]\n",
    "    el = np.abs(col[i])\n",
    "    col = sum(np.abs(np.delete(col, i)))\n",
    "    diag_dom1.append(bool(el > col))\n",
    "\n",
    "symmetrical = np.array_equal(A, A.transpose())\n",
    "\n",
    "d, l, u = np.diag(np.diag(A)), np.tril(A, k=-1), np.triu(A, k=1)\n",
    "g = -linalg.inv(d+l) @ u\n",
    "eig = linalg.eigvals(g)\n",
    "spectral_radius = r(np.max(np.abs(eig)), 4)\n",
    "print('Diagonal domination (row): {}\\nDiagonal domination (col): {}\\nIs symmetrical: {}\\nSpectral radius: {}'.format(all(diag_dom), all(diag_dom1), symmetrical, spectral_radius))\n",
    "    "
   ]
  },
  {
   "cell_type": "code",
   "execution_count": 13,
   "metadata": {},
   "outputs": [
    {
     "data": {
      "text/plain": [
       "[0.1, 0.2, 0.3, 0.4, 0.5, 0.6, 0.7, 0.8, 0.9, 1.0, 1.1, 1.2, 1.3, 1.4, 1.5]"
      ]
     },
     "execution_count": 13,
     "metadata": {},
     "output_type": "execute_result"
    }
   ],
   "source": [
    "posible_w = list()\n",
    "for w in range(1, 20):\n",
    "    T = linalg.inv(d+w/10*l) @ ((1-w/10)*d-w/10*u)\n",
    "    spectral_radius = r(np.max(np.abs(linalg.eigvals(T))), 4)\n",
    "    if spectral_radius < 1:\n",
    "        posible_w.append(w/10)\n",
    "\n",
    "posible_w"
   ]
  },
  {
   "cell_type": "code",
   "execution_count": 28,
   "metadata": {},
   "outputs": [
    {
     "name": "stdout",
     "output_type": "stream",
     "text": [
      "[0.0047 -4.9986 2.9979 -5.0049]\n",
      "[-0.0000 -5.0000 3.0000 -5.0000]\n",
      "[-0.0000 -5.0000 3.0000 -5.0000]\n",
      "[-0.0000 -5.0000 3.0000 -5.0000]\n",
      "[-0.0000 -5.0000 3.0000 -5.0000]\n",
      "[-0.0000 -5.0000 3.0000 -5.0000]\n",
      "[-0.0000 -5.0000 3.0000 -5.0000]\n",
      "[-0.0000 -5.0000 3.0000 -5.0000]\n",
      "[-0.0000 -5.0000 3.0000 -5.0000]\n",
      "[0.0000 -5.0000 3.0000 -5.0000]\n",
      "[-0.0000 -5.0000 3.0000 -5.0000]\n",
      "[-0.0000 -5.0000 3.0000 -5.0000]\n",
      "[-0.0000 -5.0000 3.0000 -5.0000]\n",
      "[-0.0000 -5.0000 3.0000 -5.0000]\n",
      "[0.0000 -5.0000 3.0000 -5.0000]\n"
     ]
    }
   ],
   "source": [
    "def sor(A, b, omega=1.1, max_iter=100, epsilon=1e-6):\n",
    "    n = len(b)\n",
    "    x = np.zeros(n)\n",
    "    for _ in range(max_iter):\n",
    "        x_new = np.copy(x)\n",
    "        for i in range(n):\n",
    "            s1 = np.dot(A[i, :i], x_new[:i])\n",
    "            s2 = np.dot(A[i, i+1:], x[i+1:])\n",
    "            x_new[i] = (1 - omega) * x[i] + omega * (b[i] - s1 - s2) / A[i, i]\n",
    "        if np.linalg.norm(x_new - x) < epsilon:\n",
    "            break\n",
    "        x = x_new\n",
    "    return x\n",
    "\n",
    "for w in posible_w:\n",
    "    print(sor(A, np.array([-8, 38, 47, -8]), omega=w))"
   ]
  }
 ],
 "metadata": {
  "kernelspec": {
   "display_name": "Python 3",
   "language": "python",
   "name": "python3"
  },
  "language_info": {
   "codemirror_mode": {
    "name": "ipython",
    "version": 3
   },
   "file_extension": ".py",
   "mimetype": "text/x-python",
   "name": "python",
   "nbconvert_exporter": "python",
   "pygments_lexer": "ipython3",
   "version": "3.13.2"
  }
 },
 "nbformat": 4,
 "nbformat_minor": 2
}
