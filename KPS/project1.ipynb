{
 "cells": [
  {
   "cell_type": "code",
   "execution_count": 2,
   "metadata": {},
   "outputs": [],
   "source": [
    "from PIL import Image, ImageDraw, ImageFont\n",
    "# Исходные данные\n",
    "Place_1 = [[0,  0, 0, 0, 'x',  0, 0, 0,  0,  0,  0,  0, 0,  0, 0, 0],\n",
    "           [0,  0, 0, 0, 'x',  0, 0, 0,  0,  0,  0,  0, 0, 'b', 0, 0],\n",
    "           [0,  0, 0, 0, 'x',  0, 0, 0,  0,  0,  0,  0, 0,  0, 0, 0],\n",
    "           [0,  'a', 0, 0, 'x',  0, 0, 0,  0,  0,  0, 'x', 0,  0, 0, 0],\n",
    "           [0,  0, 0, 0, 'x',  0, 0, 0,  0, 'x', 'x', 'x', 0,  0, 0, 0],\n",
    "           [0,  0, 0, 0, 'x',  0, 0, 0,  0, 'x', 'x', 'x', 0,  0, 0, 0],\n",
    "           [0,  0, 0, 0, 'x',  0, 0, 0, 'x', 'x', 'x', 'x', 0,  0, 0, 0],\n",
    "           [0,  0, 0, 0, 'x',  0, 0, 0, 'x', 'x', 'x', 'x', 0,  0, 0, 0],\n",
    "           [0,  0, 0, 0, 'x',  0, 0, 0,  0, 'x', 'x', 'x', 0,  0, 0, 0],\n",
    "           [0,  0, 0, 0, 'x',  0, 0, 0,  0,  0, 'x', 'x', 0,  0, 0, 0],\n",
    "           [0,  0, 0, 0,  0, 'x', 0, 0,  0,  0, 'x', 'x', 0,  0, 0, 0],\n",
    "           [0,  0, 0, 0,  0, 'x', 0, 0,  0,  0, 'x', 'x', 0,  0, 0, 0],\n",
    "           [0,  0, 0, 0,  0,  0, 0, 0,  0,  0, 'x', 'x', 0,  0, 0, 0],\n",
    "           [0,  0, 0, 0,  0,  0, 0, 0,  0,  0,  0, 'x', 0,  0, 0, 0],\n",
    "           [0,  0, 0, 0,  0,  0, 0, 0,  0,  0,  0, 'x', 0,  0, 0, 0],\n",
    "           [0,  0, 0, 0,  0,  0, 0, 0,  0,  0,  0,  0, 0,  0, 0, 0]]"
   ]
  },
  {
   "cell_type": "code",
   "execution_count": 3,
   "metadata": {},
   "outputs": [],
   "source": [
    "# Заготовка фона\n",
    "PL = Image.new('RGB', (1600, 1600), (255, 255, 255))\n",
    "re_PL = ImageDraw.Draw(PL)\n",
    "front = ImageFont.truetype(\"arial.ttf\", 50)\n",
    "\n",
    "# Функция разметки пространства\n",
    "def ShowPlace(Place):\n",
    "    n = 0\n",
    "    for i in Place:\n",
    "        n += 1\n",
    "        m = 0\n",
    "        for j in i:\n",
    "            m += 1\n",
    "            if j == 'x':\n",
    "                re_PL.rectangle((m*100-100, n*100-100, m*100, n*100),\n",
    "                                fill='black', outline=(255, 255, 255))\n",
    "            elif j == 'a' or j == 'b':\n",
    "                re_PL.rectangle((m*100-100, n*100-100, m*100, n*100),\n",
    "                                fill='yellow', outline=(0, 0, 0))\n",
    "                re_PL.text((m*100-80, n*100-80), j, fill='black', font=front)\n",
    "            else:\n",
    "                re_PL.rectangle((m*100-100, n*100-100, m*100, n*100),\n",
    "                                fill='white', outline=(0, 0, 0))\n",
    "                re_PL.text((m*100-80, n*100-80), str(j),\n",
    "                           fill='black', font=front)\n",
    "\n",
    "\n",
    "contin = 0\n",
    "ShowPlace(Place_1)\n",
    "PL.show()"
   ]
  },
  {
   "cell_type": "code",
   "execution_count": 4,
   "metadata": {},
   "outputs": [],
   "source": [
    "def next_step(step_num: int, coords: set[tuple]) -> set[tuple]:\n",
    "    new_coords = set()\n",
    "    for coord in coords:\n",
    "        x, y = coord[0], coord[1]\n",
    "\n",
    "        if (x-1 >= 0 and mask_place[x-1][y] == 'b') or (x+1 <= x_max and mask_place[x+1][y] == 'b') \\\n",
    "        or (y-1 >= 0 and mask_place[x][y-1] == 'b') or (y+1 <= y_max and mask_place[x][y+1] == 'b'):\n",
    "            return (), True\n",
    "\n",
    "        if x-1 >= 0 and mask_place[x-1][y] == 0:\n",
    "            mask_place[x-1][y] += step_num + 1\n",
    "            new_coords.add((x-1, y))\n",
    "\n",
    "        if x+1 <= x_max and mask_place[x+1][y] == 0:\n",
    "            mask_place[x+1][y] += step_num + 1\n",
    "            new_coords.add((x+1, y))\n",
    "\n",
    "        if y-1 >= 0 and mask_place[x][y-1] == 0:\n",
    "            mask_place[x][y-1] += step_num + 1\n",
    "            new_coords.add((x, y-1))\n",
    "\n",
    "        if y+1 <= y_max and mask_place[x][y+1] == 0:\n",
    "            mask_place[x][y+1] += step_num + 1\n",
    "            new_coords.add((x, y+1))\n",
    "        \n",
    "    return new_coords, False"
   ]
  },
  {
   "cell_type": "code",
   "execution_count": 5,
   "metadata": {},
   "outputs": [],
   "source": [
    "def SearchPath(stop_flag):\n",
    "    while not stop_flag:\n",
    "        keys = list(front.keys())\n",
    "        new_front, stop_flag =  next_step(keys[-1], front[keys[-1]])\n",
    "        front[keys[-1]+1] = new_front"
   ]
  },
  {
   "cell_type": "code",
   "execution_count": 6,
   "metadata": {},
   "outputs": [],
   "source": [
    "def backwards(start_coord):\n",
    "    x, y = start_coord[0], start_coord[1]\n",
    "    num = mask_place[x][y]\n",
    "    \n",
    "    new_coords = (-1, -1)\n",
    "    \n",
    "    if x-1 >= 0 and mask_place[x-1][y] < num:\n",
    "            new_coords = (x-1, y)\n",
    "\n",
    "    if x+1 <= x_max and mask_place[x+1][y] < num:\n",
    "        new_coords = (x+1, y)\n",
    "\n",
    "    if y-1 >= 0 and mask_place[x][y-1] < num:\n",
    "        new_coords = (x, y-1)\n",
    "\n",
    "    if y+1 <= y_max and mask_place[x][y+1] < num:\n",
    "        new_coords = (x, y-1)\n",
    "        \n",
    "    return new_coords\n",
    "\n",
    "    "
   ]
  },
  {
   "cell_type": "code",
   "execution_count": 7,
   "metadata": {},
   "outputs": [],
   "source": [
    "def draw_path(coords):\n",
    "    x, y = coords[0], coords[1]\n",
    "    \n",
    "    while Place_1[coords[0]][coords[1]] != 'a':\n",
    "        print(coords, Place_1[x][y])\n",
    "        coords = backwards(coords)\n",
    "        x, y = coords[0], coords[1]\n",
    "        \n",
    "        front = ImageFont.truetype(\"arial.ttf\", 50)\n",
    "        re_PL.rectangle((y*100, x*100, y*100+100, x*100+100),\n",
    "                                fill='blue', outline=(0, 0, 0))\n",
    "        re_PL.text((y*100+20, x*100+20), str(mask_place[x][y]), fill='black', font=front)\n",
    "        \n",
    "    front = ImageFont.truetype(\"arial.ttf\", 50)\n",
    "    re_PL.rectangle((y*100, x*100, y*100+100, x*100+100),\n",
    "                            fill='yellow', outline=(0, 0, 0))\n",
    "    re_PL.text((y*100+20, x*100+20), 'a', fill='black', font=front)\n",
    "        \n",
    "        \n",
    "    \n",
    "    "
   ]
  },
  {
   "cell_type": "code",
   "execution_count": 8,
   "metadata": {},
   "outputs": [],
   "source": [
    "stop_flag = False\n",
    "\n",
    "a_coord = (1, 1)\n",
    "for i in range(len(Place_1)):\n",
    "    for j in range(len(Place_1[0])):\n",
    "        if Place_1[i][j] == 'a':\n",
    "            a_coord = (i, j)\n",
    "            break\n",
    "\n",
    "front = {0: (a_coord, )}\n",
    "x_max, y_max = len(Place_1) - 1, len(Place_1[0]) - 1\n",
    "mask_place = [Place_1[i].copy() for i in range(len(Place_1))]\n",
    "\n",
    "\n",
    "b_coord = (1, 1)\n",
    "for i in range(len(Place_1)):\n",
    "    for j in range(len(Place_1[0])):\n",
    "        if Place_1[i][j] == 'b':\n",
    "            b_coord = (i, j)\n",
    "            break"
   ]
  },
  {
   "cell_type": "code",
   "execution_count": 9,
   "metadata": {},
   "outputs": [
    {
     "data": {
      "text/plain": [
       "[[0, 0, 0, 0, 'x', 0, 0, 0, 0, 0, 0, 0, 0, 0, 0, 0],\n",
       " [0, 0, 0, 0, 'x', 0, 0, 0, 0, 0, 0, 0, 0, 'b', 0, 0],\n",
       " [0, 0, 0, 0, 'x', 0, 0, 0, 0, 0, 0, 0, 0, 0, 0, 0],\n",
       " [0, 'a', 0, 0, 'x', 0, 0, 0, 0, 0, 0, 'x', 0, 0, 0, 0],\n",
       " [0, 0, 0, 0, 'x', 0, 0, 0, 0, 'x', 'x', 'x', 0, 0, 0, 0],\n",
       " [0, 0, 0, 0, 'x', 0, 0, 0, 0, 'x', 'x', 'x', 0, 0, 0, 0],\n",
       " [0, 0, 0, 0, 'x', 0, 0, 0, 'x', 'x', 'x', 'x', 0, 0, 0, 0],\n",
       " [0, 0, 0, 0, 'x', 0, 0, 0, 'x', 'x', 'x', 'x', 0, 0, 0, 0],\n",
       " [0, 0, 0, 0, 'x', 0, 0, 0, 0, 'x', 'x', 'x', 0, 0, 0, 0],\n",
       " [0, 0, 0, 0, 'x', 0, 0, 0, 0, 0, 'x', 'x', 0, 0, 0, 0],\n",
       " [0, 0, 0, 0, 0, 'x', 0, 0, 0, 0, 'x', 'x', 0, 0, 0, 0],\n",
       " [0, 0, 0, 0, 0, 'x', 0, 0, 0, 0, 'x', 'x', 0, 0, 0, 0],\n",
       " [0, 0, 0, 0, 0, 0, 0, 0, 0, 0, 'x', 'x', 0, 0, 0, 0],\n",
       " [0, 0, 0, 0, 0, 0, 0, 0, 0, 0, 0, 'x', 0, 0, 0, 0],\n",
       " [0, 0, 0, 0, 0, 0, 0, 0, 0, 0, 0, 'x', 0, 0, 0, 0],\n",
       " [0, 0, 0, 0, 0, 0, 0, 0, 0, 0, 0, 0, 0, 0, 0, 0]]"
      ]
     },
     "execution_count": 9,
     "metadata": {},
     "output_type": "execute_result"
    }
   ],
   "source": [
    "mask_place"
   ]
  },
  {
   "cell_type": "code",
   "execution_count": 10,
   "metadata": {},
   "outputs": [],
   "source": [
    "SearchPath(stop_flag)\n",
    "\n",
    "mask_place[b_coord[0]][b_coord[1]] = x_max*y_max + 1\n",
    "for i in range(len(mask_place)):\n",
    "    for j in range(len(mask_place[0])):\n",
    "        if mask_place[i][j] == 'x':\n",
    "            mask_place[i][j] = x_max*y_max + 1\n",
    "mask_place[a_coord[0]][a_coord[1]] = 0"
   ]
  },
  {
   "cell_type": "code",
   "execution_count": 11,
   "metadata": {},
   "outputs": [
    {
     "name": "stdout",
     "output_type": "stream",
     "text": [
      "(1, 13) b\n",
      "(1, 12) 0\n",
      "(1, 11) 0\n",
      "(1, 10) 0\n",
      "(1, 9) 0\n",
      "(1, 8) 0\n",
      "(1, 7) 0\n",
      "(1, 6) 0\n",
      "(2, 6) 0\n",
      "(3, 6) 0\n",
      "(4, 6) 0\n",
      "(5, 6) 0\n",
      "(6, 6) 0\n",
      "(7, 6) 0\n",
      "(8, 6) 0\n",
      "(9, 6) 0\n",
      "(10, 6) 0\n",
      "(11, 6) 0\n",
      "(12, 6) 0\n",
      "(12, 5) 0\n",
      "(12, 4) 0\n",
      "(12, 3) 0\n",
      "(12, 2) 0\n",
      "(12, 1) 0\n",
      "(11, 1) 0\n",
      "(10, 1) 0\n",
      "(9, 1) 0\n",
      "(8, 1) 0\n",
      "(7, 1) 0\n",
      "(6, 1) 0\n",
      "(5, 1) 0\n",
      "(4, 1) 0\n"
     ]
    }
   ],
   "source": [
    "draw_path(b_coord)\n",
    "PL.show()\n"
   ]
  },
  {
   "cell_type": "code",
   "execution_count": null,
   "metadata": {},
   "outputs": [],
   "source": []
  }
 ],
 "metadata": {
  "kernelspec": {
   "display_name": "Python 3",
   "language": "python",
   "name": "python3"
  },
  "language_info": {
   "codemirror_mode": {
    "name": "ipython",
    "version": 3
   },
   "file_extension": ".py",
   "mimetype": "text/x-python",
   "name": "python",
   "nbconvert_exporter": "python",
   "pygments_lexer": "ipython3",
   "version": "3.13.2"
  }
 },
 "nbformat": 4,
 "nbformat_minor": 2
}
